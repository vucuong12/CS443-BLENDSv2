{
 "cells": [
  {
   "cell_type": "markdown",
   "metadata": {},
   "source": [
    "## [Lab 4 (Part I)] BLENDS Node\n",
    "\n",
    "In Lab #4 you will work in BLENDS, a simple cryptocurrency framework we have built for CS443. The BLENDS framework provides an overall architecture with well-defined APIs so that students can focus on core concepts of Bitcoin-like cryptocurrency and do not worry about architecting the system from scratch.\n",
    "\n",
    "The framework makes the following assumptions:\n",
    "* All nodes communicate not directly with each other, but through a broadcast server provided in the framework.\n",
    "* Unless Bitcoin, here a single (priv, pub) key pair is associated with a node.  That is, we equate the concept of a pub key with a node.\n",
    "* We use RSA, instead of ECDSA for public key crypto.\n",
    "* We use SHA-512, instead of SHA-256. You will be using RSASSA-PKCS1_v1_5 of PyCryptodome [Modified on 2018/12/12]\n",
    "* We do not use Merkle tree, but just a simple linked list with hash pointers.\n",
    "* For ease of programming and balance-checking, we use an RDBMS called SQLite to store transactions and blocks.\n",
    "\n",
    "The broadcast server of the framework does the following:\n",
    "* It works as a communication center by accepting transactions and blocks from a node and broadcasting them to other nodes.\n",
    "* It drops transactions and blocks if they are formatted correctly.\n",
    "* [Under Construction] It runs a leaderboard.\n",
    "\n",
    "A node in the framework is architected as follows:\n",
    "* It is made up of two processes: main and CLI.\n",
    "* The main process forks a miner thread in order to mine continuously.\n",
    "* The CLI process is the command-line interface for typing in commands to be delivered to the node.  It is given in \"cli.py\".\n",
    "* The CLI process communicates with the main process over HTTP.  \"manager.py\" implements the interface between the CLI and main processes.  This is also given.\n",
    "* The main process is broken into 7 files: blockchain.py, db.py, node.py, crypto.py, miner.py, util.py, and manager.py. util.py and manager.py are given.  For the rest, students will have to fill in the function body given the specification.\n",
    " \n",
    "Now Part I of Lab 4.  First, let's start with digital signature.\n"
   ]
  },
  {
   "cell_type": "code",
   "execution_count": null,
   "metadata": {},
   "outputs": [],
   "source": [
    "import json\n",
    "from blends.node.crypto import load_secret_key, sign, verify, get_pk\n",
    "\n",
    "MESSAGE = \"This is a test message\""
   ]
  },
  {
   "cell_type": "markdown",
   "metadata": {},
   "source": [
    "## Digital Signature: crypto.py\n",
    "\n",
    "You are asked to implement the following functions:\n",
    "* Create and save to a file an RSA secret key.\n",
    "* Load an RSA secret key from a file.\n",
    "* Get a public key from an RSA secret key.\n",
    "* Sign a message with an RSA secret key.\n",
    "\n",
    "We use RSA-2048 for digital signature. The parameter `publicExponent` is fixed at 0x10001 for all keys in this project.\n",
    "\n",
    "### Problem 1 : create_secret_key(fname)\n",
    "\n",
    "Implement `create_secret_key` function in [crypto.py](/edit/node/crypto.py)\n",
    "\n",
    "* It creates an RSA key and store it in a file, \"fname\". We keep it in a file so that when you stop in the middle and return, your node can continue with the same key.  You can look at the file format in \"key0.json\".\n"
   ]
  },
  {
   "cell_type": "markdown",
   "metadata": {},
   "source": [
    "### Problem 2 : load_secret_key(fname)\n",
    "\n",
    "Implement `load_secret_key` function in [crypto.py](/edit/node/crypto.py)\n",
    "\n",
    "* it returns secret key.\n",
    "* it will be used in sign function below."
   ]
  },
  {
   "cell_type": "markdown",
   "metadata": {},
   "source": [
    "### Problem 3 : get_pk(sk)\n",
    "\n",
    "Implement `get_pk` function in [crypto.py](/edit/node/crypto.py)\n",
    "\n",
    "* It returns public key from secret key."
   ]
  },
  {
   "cell_type": "markdown",
   "metadata": {},
   "source": [
    "### Problem 4 : sign(sk, message)\n",
    "\n",
    "Implement `sign` function in [crypto.py](/edit/node/crypto.py)\n",
    "\n",
    "* Use SHA-512 to convert the message to a hash digest. Use UTF-8 encoding for the message.\n",
    "* Sign message, i.e. encrypt the digest with your secret key, `sk`.\n",
    "* `sk`  is return value of `load_secret_key` above."
   ]
  },
  {
   "cell_type": "code",
   "execution_count": null,
   "metadata": {},
   "outputs": [],
   "source": [
    "# Test  for Problems 2 to 4; Problem 1 is not tested here.\n",
    "\n",
    "for i in range(3):\n",
    "    key_fname = \"key{}.json\".format(i)\n",
    "    sk = load_secret_key(key_fname)\n",
    "    sig_computed = sign(sk, MESSAGE)\n",
    "    sig_fname = \"sig{}.json\".format(i)\n",
    "    with open(sig_fname, \"r\") as sig_f:\n",
    "        data = json.loads(sig_f.readline())\n",
    "        sig = data[\"sig\"]\n",
    "        if sig_computed == sig:\n",
    "            print(\"PASS\")\n",
    "        else:\n",
    "            print(\"FAIL\")"
   ]
  },
  {
   "cell_type": "markdown",
   "metadata": {},
   "source": [
    "### Problem 5 : verify(pk, msg, sig)\n",
    "\n",
    "Next, Implement `verify` function in [crypto.py](/edit/node/crypto.py)\n",
    "\n",
    "* it takes a public key `pk`, a message `msg`, and a signature `sig`.\n"
   ]
  },
  {
   "cell_type": "code",
   "execution_count": null,
   "metadata": {},
   "outputs": [],
   "source": [
    "# Test  for Problem 5\n",
    "WRONG_SIG = \"wrong signature\"\n",
    "\n",
    "for i in range(3):\n",
    "    key_fname = \"key{}.json\".format(i)\n",
    "    sk = load_secret_key(key_fname)\n",
    "    pk = get_pk(sk)\n",
    "    sig_fname = \"sig{}.json\".format(i)\n",
    "    with open(sig_fname, \"r\") as sig_f:\n",
    "        data = json.loads(sig_f.readline())\n",
    "        sig = bytes.fromhex(data[\"sig\"])\n",
    "        if verify(pk, MESSAGE, sig):\n",
    "            print(\"PASS\")\n",
    "        else:\n",
    "            print(\"FAIL\")"
   ]
  },
  {
   "cell_type": "markdown",
   "metadata": {},
   "source": [
    "\n",
    "### Problem 6 : get_hash(msg)\n",
    "\n",
    "To send a block to a peer, you need to format the hash digest into a hexadecimal number string.\n",
    "\n",
    "* Implement `get_hash` function in [crypto.py](/edit/node/crypto.py).\n"
   ]
  },
  {
   "cell_type": "markdown",
   "metadata": {},
   "source": [
    "\n"
   ]
  }
 ],
 "metadata": {
  "kernelspec": {
   "display_name": "Python 3",
   "language": "python",
   "name": "python3"
  },
  "language_info": {
   "codemirror_mode": {
    "name": "ipython",
    "version": 3
   },
   "file_extension": ".py",
   "mimetype": "text/x-python",
   "name": "python",
   "nbconvert_exporter": "python",
   "pygments_lexer": "ipython3",
   "version": "3.7.0"
  }
 },
 "nbformat": 4,
 "nbformat_minor": 2
}
